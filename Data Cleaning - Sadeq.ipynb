{
 "cells": [
  {
   "cell_type": "code",
   "execution_count": 1,
   "id": "58471e19-35f9-4dd8-9e56-57fe0e631a80",
   "metadata": {},
   "outputs": [],
   "source": [
    "import pandas as pd\n",
    "import numpy as np\n",
    "from ast import literal_eval"
   ]
  },
  {
   "cell_type": "code",
   "execution_count": 2,
   "id": "7a1e6c03-2eec-42d2-bbb3-bc502679c228",
   "metadata": {},
   "outputs": [],
   "source": [
    "movies = pd.read_csv(\n",
    "    \"./Datasets/tmdb movie database/tmdb_5000_movies.csv\",\n",
    "    index_col=\"id\"\n",
    ")"
   ]
  },
  {
   "cell_type": "code",
   "execution_count": 3,
   "id": "b4620d05-8dbc-4782-94e0-7a5993bc13be",
   "metadata": {},
   "outputs": [],
   "source": [
    "credits = pd.read_csv(\n",
    "    \"./Datasets/tmdb movie database/tmdb_5000_credits.csv\",\n",
    "    index_col=\"movie_id\"\n",
    ")"
   ]
  },
  {
   "cell_type": "markdown",
   "id": "6888c4a1-ff2c-448d-9522-4112b6ea8545",
   "metadata": {},
   "source": [
    "## Genres"
   ]
  },
  {
   "cell_type": "code",
   "execution_count": 4,
   "id": "84aef233-a209-41e6-9de0-4f00e7c461e5",
   "metadata": {},
   "outputs": [],
   "source": [
    "genres: dict[int, str] = dict()\n",
    "movie_genre: list[tuple] = list()\n",
    "for movie_id, row in movies.loc[:, [\"genres\", \"title\"]].iterrows():\n",
    "    genre_list: list[dict] = literal_eval(row[\"genres\"])\n",
    "    for genre in genre_list:\n",
    "        # if genre not in dictionary, add it with the name\n",
    "        genres.setdefault(genre[\"id\"], genre[\"name\"])\n",
    "\n",
    "        # associate movie and genre in the movie_genre list\n",
    "        movie_genre.append(\n",
    "            (movie_id, row[\"title\"], genre[\"id\"], genre[\"name\"])\n",
    "        )"
   ]
  },
  {
   "cell_type": "code",
   "execution_count": 5,
   "id": "0fa4ec8e-5e72-4a16-b973-c89af286c204",
   "metadata": {},
   "outputs": [],
   "source": [
    "# remove genres from movies\n",
    "movies.drop(\"genres\", axis = \"columns\", inplace=True, errors=\"ignore\")\n",
    "\n",
    "# create genres table\n",
    "genres_df = pd.DataFrame(data = genres.items(), columns=[\"id\", \"name\"])\n",
    "\n",
    "# create movie_genre table\n",
    "movie_genre_df = pd.DataFrame(\n",
    "    data = movie_genre,\n",
    "    columns = [\"movie_id\", \"movie_title\", \"genre_id\", \"genre_name\"]\n",
    ")"
   ]
  },
  {
   "cell_type": "markdown",
   "id": "7fc31471-d462-4853-b4c7-6a1c15a90c38",
   "metadata": {},
   "source": [
    "## Production Companies"
   ]
  },
  {
   "cell_type": "code",
   "execution_count": 6,
   "id": "0b823960-419c-467c-a9a0-b35becf1ad09",
   "metadata": {},
   "outputs": [],
   "source": [
    "production_companies: dict[int, str] = dict()\n",
    "movie_company: list[tuple] = list()\n",
    "columns = [\"production_companies\", \"title\"]\n",
    "for movie_id, row in movies.loc[:, columns].iterrows():\n",
    "    companies_list: list[dict] = literal_eval(row[\"production_companies\"])\n",
    "    for company in companies_list:\n",
    "        # if company not in dictionary, add it with the name\n",
    "        production_companies.setdefault(company[\"id\"], company[\"name\"])\n",
    "\n",
    "        # associate movie and company in the movie_company list\n",
    "        movie_company.append(\n",
    "            (movie_id, row[\"title\"], company[\"id\"], company[\"name\"])\n",
    "        )"
   ]
  },
  {
   "cell_type": "code",
   "execution_count": 7,
   "id": "0f668192-63b5-430b-826b-bbba5cd9e6ca",
   "metadata": {},
   "outputs": [],
   "source": [
    "# remove production_companies from movies\n",
    "movies.drop(\n",
    "    \"production_companies\",\n",
    "    axis = \"columns\",\n",
    "    inplace=True,\n",
    "    errors=\"ignore\"\n",
    ")\n",
    "\n",
    "# create production_companies table\n",
    "production_companies_df = pd.DataFrame(\n",
    "    data = production_companies.items(),\n",
    "    columns=[\"id\", \"name\"]\n",
    ")\n",
    "\n",
    "# create movie_company table\n",
    "movie_company_df = pd.DataFrame(\n",
    "    data = movie_company,\n",
    "    columns = [\n",
    "        \"movie_id\",\n",
    "        \"movie_title\",\n",
    "        \"production_company_id\",\n",
    "        \"production_company_name\"\n",
    "    ]\n",
    ")"
   ]
  },
  {
   "cell_type": "markdown",
   "id": "c1c7c9f9-5643-49ba-a3ab-656bbabdbbea",
   "metadata": {},
   "source": [
    "## Production Countries"
   ]
  },
  {
   "cell_type": "code",
   "execution_count": 8,
   "id": "ada3fb7d-9207-4b9f-9b32-7c73c71fddc2",
   "metadata": {},
   "outputs": [],
   "source": [
    "country_to_continent = pd.read_csv(\n",
    "    \"./Datasets/continents2.csv\",\n",
    "    index_col = \"alpha-2\"\n",
    ")\n",
    "country_to_continent.loc[\"CS\", \"region\"] = \"Europe\""
   ]
  },
  {
   "cell_type": "code",
   "execution_count": 9,
   "id": "66163c06-2f24-4dbd-8f28-d8fc175d39f7",
   "metadata": {},
   "outputs": [],
   "source": [
    "production_countries: dict[int, str] = dict()\n",
    "movie_country: list[tuple] = list()\n",
    "columns = [\"production_countries\", \"title\"]\n",
    "for movie_id, row in movies.loc[:, columns].iterrows():\n",
    "    countries_list: list[dict] = literal_eval(row[\"production_countries\"])\n",
    "    for country in countries_list:\n",
    "        # if country not in dictionary, add it with the name\n",
    "        production_countries.setdefault(country[\"iso_3166_1\"], country[\"name\"])\n",
    "\n",
    "        # associate movie and country in the movie_country list\n",
    "        movie_country.append((\n",
    "            movie_id,\n",
    "            row[\"title\"],\n",
    "            country[\"iso_3166_1\"],\n",
    "            country[\"name\"],\n",
    "            country_to_continent.loc[country[\"iso_3166_1\"], \"region\"]   \n",
    "        ))"
   ]
  },
  {
   "cell_type": "code",
   "execution_count": 10,
   "id": "0f4f43e7-c1ba-4649-9ea4-e36f64909698",
   "metadata": {},
   "outputs": [],
   "source": [
    "# remove production_countries from movies\n",
    "movies.drop(\n",
    "    \"production_countries\",\n",
    "    axis = \"columns\",\n",
    "    inplace=True,\n",
    "    errors=\"ignore\"\n",
    ")\n",
    "\n",
    "# create production_countries table\n",
    "production_countries_df = pd.DataFrame(\n",
    "    data = production_countries.items(),\n",
    "    columns=[\"iso_3166_1\", \"name\"]\n",
    ")\n",
    "\n",
    "# create movie_country table\n",
    "movie_country_df = pd.DataFrame(\n",
    "    data = movie_country,\n",
    "    columns = [\n",
    "        \"movie_id\",\n",
    "        \"movie_title\",\n",
    "        \"production_country_iso_3166_1\",\n",
    "        \"production_country_name\",\n",
    "        \"continent\"\n",
    "    ]\n",
    ")"
   ]
  },
  {
   "cell_type": "markdown",
   "id": "24b8bae5-791e-4832-b20c-ed8beeaaa2e3",
   "metadata": {},
   "source": [
    "## Remove Unnecessary Columns"
   ]
  },
  {
   "cell_type": "code",
   "execution_count": 11,
   "id": "2a8e0fc8-bdd0-4ee6-91f4-c0f0c99d9381",
   "metadata": {},
   "outputs": [],
   "source": [
    "movies.drop(\"homepage\", axis = \"columns\", inplace=True, errors=\"ignore\")\n",
    "movies.drop(\"overview\", axis = \"columns\", inplace=True, errors=\"ignore\")\n",
    "movies.drop(\"tagline\", axis = \"columns\", inplace=True, errors=\"ignore\")\n",
    "movies.drop(\"keywords\", axis = \"columns\", inplace=True, errors=\"ignore\")\n",
    "movies.drop(\n",
    "    \"spoken_languages\",\n",
    "    axis = \"columns\",\n",
    "    inplace=True,\n",
    "    errors=\"ignore\"\n",
    ")"
   ]
  },
  {
   "cell_type": "markdown",
   "id": "b90ed7ea-e052-4602-92aa-76cd30961a66",
   "metadata": {},
   "source": [
    "## Cast and Crew"
   ]
  },
  {
   "cell_type": "code",
   "execution_count": 12,
   "id": "a8c224b5-868b-4388-8309-39df11babbc6",
   "metadata": {},
   "outputs": [],
   "source": [
    "people: dict[int, tuple] = dict()\n",
    "movie_cast: list[tuple] = list()\n",
    "movie_crew: list[tuple] = list()\n",
    "for movie_id, row in credits.loc[:, [\"cast\", \"crew\", \"title\"]].iterrows():\n",
    "    cast_list: list[dict] = literal_eval(row[\"cast\"])\n",
    "    for cast in cast_list:\n",
    "        # if person not in dictionary, add it with the name\n",
    "        gender = (\n",
    "            {0: \"Not Specified\", 1: \"Female\", 2: \"Male\"}[cast[\"gender\"]]\n",
    "            if cast[\"gender\"] is not None else None\n",
    "        )\n",
    "        people.setdefault(cast[\"id\"], (cast[\"id\"], cast[\"name\"], gender))\n",
    "\n",
    "        # associate movie and cast in the movie_cast list\n",
    "        movie_cast.append(\n",
    "            (\n",
    "                movie_id,\n",
    "                row[\"title\"],\n",
    "                cast[\"character\"],\n",
    "                cast[\"id\"],\n",
    "                cast[\"name\"],\n",
    "                gender,\n",
    "                cast[\"order\"]\n",
    "            )\n",
    "        )\n",
    "\n",
    "    crew_list: list[dict] = literal_eval(row[\"crew\"])\n",
    "    for crew in crew_list:\n",
    "        # if person not in dictionary, add it with the name\n",
    "        gender = (\n",
    "            {0: \"Not Specified\", 1: \"Female\", 2: \"Male\"}[cast[\"gender\"]]\n",
    "            if crew[\"gender\"] is not None else None\n",
    "        )\n",
    "        people.setdefault(crew[\"id\"], (crew[\"id\"], crew[\"name\"], gender))\n",
    "\n",
    "        # associate movie and crew in the movie_crew list\n",
    "        movie_crew.append(\n",
    "            (\n",
    "                movie_id,\n",
    "                row[\"title\"],\n",
    "                crew[\"department\"],\n",
    "                crew[\"job\"],\n",
    "                crew[\"id\"],\n",
    "                crew[\"name\"],\n",
    "                gender\n",
    "            )\n",
    "        )"
   ]
  },
  {
   "cell_type": "code",
   "execution_count": 13,
   "id": "3eff9222-8bb9-4a53-857c-bbde5e00c9a1",
   "metadata": {},
   "outputs": [],
   "source": [
    "# create people table\n",
    "people_df = pd.DataFrame(\n",
    "    data = people.values(),\n",
    "    columns=[\"id\", \"name\", \"gender\"]\n",
    ")\n",
    "\n",
    "# create movie_cast table\n",
    "movie_cast_df = pd.DataFrame(\n",
    "    data = movie_cast,\n",
    "    columns = [\n",
    "        \"movie_id\",\n",
    "        \"movie_title\",\n",
    "        \"character\",\n",
    "        \"person_id\",\n",
    "        \"name\",\n",
    "        \"gender\",\n",
    "        \"order\"\n",
    "    ]\n",
    ")\n",
    "\n",
    "# create movie_crew table\n",
    "movie_crew_df = pd.DataFrame(\n",
    "    data = movie_crew,\n",
    "    columns = [\n",
    "        \"movie_id\",\n",
    "        \"movie_title\",\n",
    "        \"department\",\n",
    "        \"job\",\n",
    "        \"person_id\",\n",
    "        \"name\",\n",
    "        \"gender\"\n",
    "    ]\n",
    ")"
   ]
  },
  {
   "cell_type": "markdown",
   "id": "f75b4b33-acab-4ffc-99ca-63bad002d049",
   "metadata": {},
   "source": [
    "## Add Director Experience Column"
   ]
  },
  {
   "cell_type": "code",
   "execution_count": 14,
   "id": "4bc06197-0e8b-4a4a-b52c-ea23de7b9631",
   "metadata": {},
   "outputs": [],
   "source": [
    "movies = movies.reset_index()"
   ]
  },
  {
   "cell_type": "code",
   "execution_count": 15,
   "id": "b6dd7d00-0d36-470b-b8a4-3ae6215203e8",
   "metadata": {},
   "outputs": [
    {
     "data": {
      "text/plain": [
       "director_experience_level\n",
       "low       3168\n",
       "medium    1131\n",
       "high       504\n",
       "Name: count, dtype: int64"
      ]
     },
     "execution_count": 15,
     "metadata": {},
     "output_type": "execute_result"
    }
   ],
   "source": [
    "directors = movie_crew_df.loc[movie_crew_df[\"job\"] == \"Director\", :]\n",
    "movie_director = movies.loc[:, [\"id\"]].merge(\n",
    "    right = directors.loc[:, [\"movie_id\", \"person_id\"]],\n",
    "    how = \"left\",\n",
    "    left_on = \"id\",\n",
    "    right_on = \"movie_id\"\n",
    ")\n",
    "movie_director.drop(columns = \"movie_id\", inplace=True)\n",
    "movie_count_by_director = movie_director.groupby([\"person_id\"])[\"id\"].count()\n",
    "\n",
    "def experience_level_by_movie_count(movie_count: int):\n",
    "    if movie_count < 5:\n",
    "        return \"low\"\n",
    "    elif movie_count < 10:\n",
    "        return \"medium\"\n",
    "    else:\n",
    "        return \"high\"\n",
    "\n",
    "experience_level = list()\n",
    "for movie_id in movies[\"id\"]:\n",
    "    director_ids = movie_director.loc[\n",
    "        movie_director[\"id\"] == movie_id,\n",
    "        \"person_id\"\n",
    "    ]\n",
    "    movie_count = movie_count_by_director.loc[director_ids.dropna()].max()\n",
    "    experience_level.append(experience_level_by_movie_count(movie_count))\n",
    "    \n",
    "\n",
    "movies[\"director_experience_level\"] = experience_level\n",
    "movies[\"director_experience_level\"].value_counts()"
   ]
  },
  {
   "cell_type": "markdown",
   "id": "2e7ea108-f7ea-499d-9c69-267ee57b7160",
   "metadata": {},
   "source": [
    "## Add is_good Column"
   ]
  },
  {
   "cell_type": "code",
   "execution_count": 16,
   "id": "d340e2d7-fe2a-4929-8412-fa24328687ea",
   "metadata": {},
   "outputs": [],
   "source": [
    "movies[\"is_good\"] = movies[\"vote_average\"] >= 7"
   ]
  },
  {
   "cell_type": "markdown",
   "id": "e420f1a0-9a3f-49d9-9601-a50e9229b1c0",
   "metadata": {},
   "source": [
    "## Save All Tables"
   ]
  },
  {
   "cell_type": "code",
   "execution_count": 19,
   "id": "b6a1ee6b-3bc2-4218-9f13-757fd4abdabc",
   "metadata": {},
   "outputs": [],
   "source": [
    "movies.to_csv(\"./Datasets/tmdb movie database cleaned/movies.csv\", index=False)\n",
    "genres_df.to_csv(\n",
    "    \"./Datasets/tmdb movie database cleaned/genres.csv\",\n",
    "    index=False\n",
    ")\n",
    "movie_genre_df.to_csv(\n",
    "    \"./Datasets/tmdb movie database cleaned/movie_genre.csv\",\n",
    "    index=False\n",
    ")\n",
    "production_companies_df.to_csv(\n",
    "    \"./Datasets/tmdb movie database cleaned/production_companies.csv\",\n",
    "    index=False\n",
    ")\n",
    "movie_company_df.to_csv(\n",
    "    \"./Datasets/tmdb movie database cleaned/movie_company.csv\",\n",
    "    index=False\n",
    ")\n",
    "production_countries_df.to_csv(\n",
    "    \"./Datasets/tmdb movie database cleaned/production_countries.csv\",\n",
    "    index=False\n",
    ")\n",
    "movie_country_df.to_csv(\n",
    "    \"./Datasets/tmdb movie database cleaned/movie_country.csv\",\n",
    "    index=False\n",
    ")\n",
    "people_df.to_csv(\n",
    "    \"./Datasets/tmdb movie database cleaned/people.csv\",\n",
    "    index=False\n",
    ")\n",
    "movie_cast_df.to_csv(\n",
    "    \"./Datasets/tmdb movie database cleaned/movie_cast.csv\",\n",
    "    index=False\n",
    ")\n",
    "movie_crew_df.to_csv(\n",
    "    \"./Datasets/tmdb movie database cleaned/movie_crew.csv\",\n",
    "    index=False\n",
    ")"
   ]
  }
 ],
 "metadata": {
  "kernelspec": {
   "display_name": "Python 3 (ipykernel)",
   "language": "python",
   "name": "python3"
  },
  "language_info": {
   "codemirror_mode": {
    "name": "ipython",
    "version": 3
   },
   "file_extension": ".py",
   "mimetype": "text/x-python",
   "name": "python",
   "nbconvert_exporter": "python",
   "pygments_lexer": "ipython3",
   "version": "3.9.6"
  }
 },
 "nbformat": 4,
 "nbformat_minor": 5
}
